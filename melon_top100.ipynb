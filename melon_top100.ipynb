{
 "cells": [
  {
   "cell_type": "markdown",
   "metadata": {},
   "source": [
    "# MELON TOP100 CROWLING"
   ]
  },
  {
   "cell_type": "markdown",
   "metadata": {},
   "source": [
    "# 검색을 크롤링하자"
   ]
  },
  {
   "cell_type": "code",
   "execution_count": 1,
   "metadata": {},
   "outputs": [],
   "source": [
    "import re\n",
    "\n",
    "import requests\n",
    "\n",
    "from bs4 import BeautifulSoup\n",
    "\n",
    "import json\n",
    "\n",
    "import time\n"
   ]
  },
  {
   "cell_type": "code",
   "execution_count": 2,
   "metadata": {},
   "outputs": [
    {
     "data": {
      "text/plain": [
       "55"
      ]
     },
     "execution_count": 2,
     "metadata": {},
     "output_type": "execute_result"
    }
   ],
   "source": [
    "singers = [ '신성우', '먼데이 키즈', '휘성', '버즈', '이승철', '디셈버', 'V.O.S', '김동률', '성시경', '바비 킴', '부활', '토이', 'SG워너비', '임창정', 'YB', '브라운 아이즈', '이현', 'Homme', '환희', '버스커버스커', '김경호', '케이윌', '김연우', '김범수', '이적', '먼데이 키즈', '허각', '플라이 투 더 스카이', '나윤권', '이승기', '이기찬', '김태우', '엠씨 더 맥스', '박완규', '포맨', '신용재', '바이브', '윤종신', '이지훈', '정준일', '박효신', '이승철', ' 더 크로스', '팀', '멜로망스', '어반자카바', '볼빨간사춘기', '헤이즈', '황치열', '아이유', '김나영', '10cm' , '유재하', '김광석', '라디']\n",
    "len(singers)"
   ]
  },
  {
   "cell_type": "code",
   "execution_count": 3,
   "metadata": {},
   "outputs": [],
   "source": [
    "def lyrics(song_dict,song_list,second=1):\n",
    "    songs_input_dict = {}\n",
    "    #print(type(songs_input_dict))\n",
    "    for title in song_list:\n",
    "        print('title: '+ title)\n",
    "        ly = []\n",
    "        url = song_dict[title]\n",
    "        time.sleep(10)\n",
    "        html = requests.get(url).text\n",
    "        soup = BeautifulSoup(html, 'html.parser')\n",
    "        try:\n",
    "            for i in soup.select('body .lyric')[0].stripped_strings:\n",
    "                ly.append(i)\n",
    "        except IndexError:\n",
    "            pass\n",
    "        songs_input_dict[title] = ly\n",
    "        \n",
    "    return  songs_input_dict"
   ]
  },
  {
   "cell_type": "code",
   "execution_count": 4,
   "metadata": {},
   "outputs": [],
   "source": [
    "def melon_chart():\n",
    "    song_list=[]\n",
    "    song_dict={}\n",
    "    chart_url = 'http://www.melon.com/chart/index.htm'\n",
    "    html = requests.get(chart_url).text\n",
    "    soup = BeautifulSoup(html, 'html.parser')\n",
    "    for idx, song_tag in enumerate(soup.select('#tb_list a[href*=playSong]'), 1):\n",
    "        menu_id, song_id = re.findall(r'\\d+', song_tag['href'])\n",
    "        song_url = 'http://www.melon.com/song/detail.htm?songId=' + song_id\n",
    "        song_list.append(song_tag.text)\n",
    "        song_dict[song_tag.text] = song_url\n",
    "        #print(idx, song_tag.text, '||', song_url)\n",
    "    songs_input_dict = lyrics(song_dict,song_list)\n",
    "    return  songs_input_dict"
   ]
  },
  {
   "cell_type": "code",
   "execution_count": 5,
   "metadata": {},
   "outputs": [],
   "source": [
    "def melon_search(q):\n",
    "    url='http://www.melon.com/search/keyword/index.json'\n",
    "    params = {\n",
    "        'jscallback':'jQuery19109732440867001123_1510148061857',\n",
    "        'query': q,\n",
    "    }\n",
    "    html = requests.get(url,params=params).text\n",
    "    json_string = html.replace(params['jscallback'] + '(', '').replace(');','')\n",
    "    result_dict = json.loads(json_string)\n",
    "    song_dict = {}\n",
    "    song_list = []\n",
    "    print('name : '+q)\n",
    "    if 'SONGCONTENTS' not in result_dict:\n",
    "        print ('not found')\n",
    "    else:\n",
    "        for song in result_dict['SONGCONTENTS']:\n",
    "            \n",
    "            url = 'http://www.melon.com/song/detail.htm?songId='+song['SONGID']\n",
    "            song_list.append(song['SONGNAME'])\n",
    "            song_dict[song['SONGNAME']] = url\n",
    "\n",
    "    songs_input_dict = lyrics(song_dict,song_list)\n",
    "        \n",
    "    return  song_dict, songs_input_dict"
   ]
  },
  {
   "cell_type": "code",
   "execution_count": 11,
   "metadata": {},
   "outputs": [],
   "source": [
    "url='http://www.melon.com/search/keyword/index.json'\n",
    "params = {\n",
    "    'jscallback':'jQuery19109732440867001123_1510148061857',\n",
    "    'query': '김창완',\n",
    "}\n",
    "html = requests.get(url,params=params).text\n",
    "json_string = html.replace(params['jscallback'] + '(', '').replace(');','')"
   ]
  },
  {
   "cell_type": "code",
   "execution_count": 16,
   "metadata": {},
   "outputs": [],
   "source": [
    "html = requests.get(url,params=params)"
   ]
  },
  {
   "cell_type": "code",
   "execution_count": 17,
   "metadata": {},
   "outputs": [
    {
     "data": {
      "text/plain": [
       "<Response [401]>"
      ]
     },
     "execution_count": 17,
     "metadata": {},
     "output_type": "execute_result"
    }
   ],
   "source": [
    "html"
   ]
  },
  {
   "cell_type": "markdown",
   "metadata": {},
   "source": [
    "%%time\n",
    "songs_input_dict = melon_chart()"
   ]
  },
  {
   "cell_type": "code",
   "execution_count": 6,
   "metadata": {},
   "outputs": [
    {
     "ename": "JSONDecodeError",
     "evalue": "Expecting value: line 1 column 1 (char 0)",
     "output_type": "error",
     "traceback": [
      "\u001b[1;31m---------------------------------------------------------------------------\u001b[0m",
      "\u001b[1;31mJSONDecodeError\u001b[0m                           Traceback (most recent call last)",
      "\u001b[1;32m<timed exec>\u001b[0m in \u001b[0;36m<module>\u001b[1;34m()\u001b[0m\n",
      "\u001b[1;32m<ipython-input-5-60c822f34e49>\u001b[0m in \u001b[0;36mmelon_search\u001b[1;34m(q)\u001b[0m\n\u001b[0;32m      7\u001b[0m     \u001b[0mhtml\u001b[0m \u001b[1;33m=\u001b[0m \u001b[0mrequests\u001b[0m\u001b[1;33m.\u001b[0m\u001b[0mget\u001b[0m\u001b[1;33m(\u001b[0m\u001b[0murl\u001b[0m\u001b[1;33m,\u001b[0m\u001b[0mparams\u001b[0m\u001b[1;33m=\u001b[0m\u001b[0mparams\u001b[0m\u001b[1;33m)\u001b[0m\u001b[1;33m.\u001b[0m\u001b[0mtext\u001b[0m\u001b[1;33m\u001b[0m\u001b[0m\n\u001b[0;32m      8\u001b[0m     \u001b[0mjson_string\u001b[0m \u001b[1;33m=\u001b[0m \u001b[0mhtml\u001b[0m\u001b[1;33m.\u001b[0m\u001b[0mreplace\u001b[0m\u001b[1;33m(\u001b[0m\u001b[0mparams\u001b[0m\u001b[1;33m[\u001b[0m\u001b[1;34m'jscallback'\u001b[0m\u001b[1;33m]\u001b[0m \u001b[1;33m+\u001b[0m \u001b[1;34m'('\u001b[0m\u001b[1;33m,\u001b[0m \u001b[1;34m''\u001b[0m\u001b[1;33m)\u001b[0m\u001b[1;33m.\u001b[0m\u001b[0mreplace\u001b[0m\u001b[1;33m(\u001b[0m\u001b[1;34m');'\u001b[0m\u001b[1;33m,\u001b[0m\u001b[1;34m''\u001b[0m\u001b[1;33m)\u001b[0m\u001b[1;33m\u001b[0m\u001b[0m\n\u001b[1;32m----> 9\u001b[1;33m     \u001b[0mresult_dict\u001b[0m \u001b[1;33m=\u001b[0m \u001b[0mjson\u001b[0m\u001b[1;33m.\u001b[0m\u001b[0mloads\u001b[0m\u001b[1;33m(\u001b[0m\u001b[0mjson_string\u001b[0m\u001b[1;33m)\u001b[0m\u001b[1;33m\u001b[0m\u001b[0m\n\u001b[0m\u001b[0;32m     10\u001b[0m     \u001b[0msong_dict\u001b[0m \u001b[1;33m=\u001b[0m \u001b[1;33m{\u001b[0m\u001b[1;33m}\u001b[0m\u001b[1;33m\u001b[0m\u001b[0m\n\u001b[0;32m     11\u001b[0m     \u001b[0msong_list\u001b[0m \u001b[1;33m=\u001b[0m \u001b[1;33m[\u001b[0m\u001b[1;33m]\u001b[0m\u001b[1;33m\u001b[0m\u001b[0m\n",
      "\u001b[1;32m~\\AppData\\Local\\Continuum\\Anaconda3\\lib\\json\\__init__.py\u001b[0m in \u001b[0;36mloads\u001b[1;34m(s, encoding, cls, object_hook, parse_float, parse_int, parse_constant, object_pairs_hook, **kw)\u001b[0m\n\u001b[0;32m    352\u001b[0m             \u001b[0mparse_int\u001b[0m \u001b[1;32mis\u001b[0m \u001b[1;32mNone\u001b[0m \u001b[1;32mand\u001b[0m \u001b[0mparse_float\u001b[0m \u001b[1;32mis\u001b[0m \u001b[1;32mNone\u001b[0m \u001b[1;32mand\u001b[0m\u001b[1;33m\u001b[0m\u001b[0m\n\u001b[0;32m    353\u001b[0m             parse_constant is None and object_pairs_hook is None and not kw):\n\u001b[1;32m--> 354\u001b[1;33m         \u001b[1;32mreturn\u001b[0m \u001b[0m_default_decoder\u001b[0m\u001b[1;33m.\u001b[0m\u001b[0mdecode\u001b[0m\u001b[1;33m(\u001b[0m\u001b[0ms\u001b[0m\u001b[1;33m)\u001b[0m\u001b[1;33m\u001b[0m\u001b[0m\n\u001b[0m\u001b[0;32m    355\u001b[0m     \u001b[1;32mif\u001b[0m \u001b[0mcls\u001b[0m \u001b[1;32mis\u001b[0m \u001b[1;32mNone\u001b[0m\u001b[1;33m:\u001b[0m\u001b[1;33m\u001b[0m\u001b[0m\n\u001b[0;32m    356\u001b[0m         \u001b[0mcls\u001b[0m \u001b[1;33m=\u001b[0m \u001b[0mJSONDecoder\u001b[0m\u001b[1;33m\u001b[0m\u001b[0m\n",
      "\u001b[1;32m~\\AppData\\Local\\Continuum\\Anaconda3\\lib\\json\\decoder.py\u001b[0m in \u001b[0;36mdecode\u001b[1;34m(self, s, _w)\u001b[0m\n\u001b[0;32m    337\u001b[0m \u001b[1;33m\u001b[0m\u001b[0m\n\u001b[0;32m    338\u001b[0m         \"\"\"\n\u001b[1;32m--> 339\u001b[1;33m         \u001b[0mobj\u001b[0m\u001b[1;33m,\u001b[0m \u001b[0mend\u001b[0m \u001b[1;33m=\u001b[0m \u001b[0mself\u001b[0m\u001b[1;33m.\u001b[0m\u001b[0mraw_decode\u001b[0m\u001b[1;33m(\u001b[0m\u001b[0ms\u001b[0m\u001b[1;33m,\u001b[0m \u001b[0midx\u001b[0m\u001b[1;33m=\u001b[0m\u001b[0m_w\u001b[0m\u001b[1;33m(\u001b[0m\u001b[0ms\u001b[0m\u001b[1;33m,\u001b[0m \u001b[1;36m0\u001b[0m\u001b[1;33m)\u001b[0m\u001b[1;33m.\u001b[0m\u001b[0mend\u001b[0m\u001b[1;33m(\u001b[0m\u001b[1;33m)\u001b[0m\u001b[1;33m)\u001b[0m\u001b[1;33m\u001b[0m\u001b[0m\n\u001b[0m\u001b[0;32m    340\u001b[0m         \u001b[0mend\u001b[0m \u001b[1;33m=\u001b[0m \u001b[0m_w\u001b[0m\u001b[1;33m(\u001b[0m\u001b[0ms\u001b[0m\u001b[1;33m,\u001b[0m \u001b[0mend\u001b[0m\u001b[1;33m)\u001b[0m\u001b[1;33m.\u001b[0m\u001b[0mend\u001b[0m\u001b[1;33m(\u001b[0m\u001b[1;33m)\u001b[0m\u001b[1;33m\u001b[0m\u001b[0m\n\u001b[0;32m    341\u001b[0m         \u001b[1;32mif\u001b[0m \u001b[0mend\u001b[0m \u001b[1;33m!=\u001b[0m \u001b[0mlen\u001b[0m\u001b[1;33m(\u001b[0m\u001b[0ms\u001b[0m\u001b[1;33m)\u001b[0m\u001b[1;33m:\u001b[0m\u001b[1;33m\u001b[0m\u001b[0m\n",
      "\u001b[1;32m~\\AppData\\Local\\Continuum\\Anaconda3\\lib\\json\\decoder.py\u001b[0m in \u001b[0;36mraw_decode\u001b[1;34m(self, s, idx)\u001b[0m\n\u001b[0;32m    355\u001b[0m             \u001b[0mobj\u001b[0m\u001b[1;33m,\u001b[0m \u001b[0mend\u001b[0m \u001b[1;33m=\u001b[0m \u001b[0mself\u001b[0m\u001b[1;33m.\u001b[0m\u001b[0mscan_once\u001b[0m\u001b[1;33m(\u001b[0m\u001b[0ms\u001b[0m\u001b[1;33m,\u001b[0m \u001b[0midx\u001b[0m\u001b[1;33m)\u001b[0m\u001b[1;33m\u001b[0m\u001b[0m\n\u001b[0;32m    356\u001b[0m         \u001b[1;32mexcept\u001b[0m \u001b[0mStopIteration\u001b[0m \u001b[1;32mas\u001b[0m \u001b[0merr\u001b[0m\u001b[1;33m:\u001b[0m\u001b[1;33m\u001b[0m\u001b[0m\n\u001b[1;32m--> 357\u001b[1;33m             \u001b[1;32mraise\u001b[0m \u001b[0mJSONDecodeError\u001b[0m\u001b[1;33m(\u001b[0m\u001b[1;34m\"Expecting value\"\u001b[0m\u001b[1;33m,\u001b[0m \u001b[0ms\u001b[0m\u001b[1;33m,\u001b[0m \u001b[0merr\u001b[0m\u001b[1;33m.\u001b[0m\u001b[0mvalue\u001b[0m\u001b[1;33m)\u001b[0m \u001b[1;32mfrom\u001b[0m \u001b[1;32mNone\u001b[0m\u001b[1;33m\u001b[0m\u001b[0m\n\u001b[0m\u001b[0;32m    358\u001b[0m         \u001b[1;32mreturn\u001b[0m \u001b[0mobj\u001b[0m\u001b[1;33m,\u001b[0m \u001b[0mend\u001b[0m\u001b[1;33m\u001b[0m\u001b[0m\n",
      "\u001b[1;31mJSONDecodeError\u001b[0m: Expecting value: line 1 column 1 (char 0)"
     ]
    }
   ],
   "source": [
    "%%time\n",
    "_, song_dict = melon_search('김창완')"
   ]
  },
  {
   "cell_type": "code",
   "execution_count": 7,
   "metadata": {
    "scrolled": true
   },
   "outputs": [
    {
     "ename": "JSONDecodeError",
     "evalue": "Expecting value: line 1 column 1 (char 0)",
     "output_type": "error",
     "traceback": [
      "\u001b[1;31m---------------------------------------------------------------------------\u001b[0m",
      "\u001b[1;31mJSONDecodeError\u001b[0m                           Traceback (most recent call last)",
      "\u001b[1;32m<timed exec>\u001b[0m in \u001b[0;36m<module>\u001b[1;34m()\u001b[0m\n",
      "\u001b[1;32m<ipython-input-5-60c822f34e49>\u001b[0m in \u001b[0;36mmelon_search\u001b[1;34m(q)\u001b[0m\n\u001b[0;32m      7\u001b[0m     \u001b[0mhtml\u001b[0m \u001b[1;33m=\u001b[0m \u001b[0mrequests\u001b[0m\u001b[1;33m.\u001b[0m\u001b[0mget\u001b[0m\u001b[1;33m(\u001b[0m\u001b[0murl\u001b[0m\u001b[1;33m,\u001b[0m\u001b[0mparams\u001b[0m\u001b[1;33m=\u001b[0m\u001b[0mparams\u001b[0m\u001b[1;33m)\u001b[0m\u001b[1;33m.\u001b[0m\u001b[0mtext\u001b[0m\u001b[1;33m\u001b[0m\u001b[0m\n\u001b[0;32m      8\u001b[0m     \u001b[0mjson_string\u001b[0m \u001b[1;33m=\u001b[0m \u001b[0mhtml\u001b[0m\u001b[1;33m.\u001b[0m\u001b[0mreplace\u001b[0m\u001b[1;33m(\u001b[0m\u001b[0mparams\u001b[0m\u001b[1;33m[\u001b[0m\u001b[1;34m'jscallback'\u001b[0m\u001b[1;33m]\u001b[0m \u001b[1;33m+\u001b[0m \u001b[1;34m'('\u001b[0m\u001b[1;33m,\u001b[0m \u001b[1;34m''\u001b[0m\u001b[1;33m)\u001b[0m\u001b[1;33m.\u001b[0m\u001b[0mreplace\u001b[0m\u001b[1;33m(\u001b[0m\u001b[1;34m');'\u001b[0m\u001b[1;33m,\u001b[0m\u001b[1;34m''\u001b[0m\u001b[1;33m)\u001b[0m\u001b[1;33m\u001b[0m\u001b[0m\n\u001b[1;32m----> 9\u001b[1;33m     \u001b[0mresult_dict\u001b[0m \u001b[1;33m=\u001b[0m \u001b[0mjson\u001b[0m\u001b[1;33m.\u001b[0m\u001b[0mloads\u001b[0m\u001b[1;33m(\u001b[0m\u001b[0mjson_string\u001b[0m\u001b[1;33m)\u001b[0m\u001b[1;33m\u001b[0m\u001b[0m\n\u001b[0m\u001b[0;32m     10\u001b[0m     \u001b[0msong_dict\u001b[0m \u001b[1;33m=\u001b[0m \u001b[1;33m{\u001b[0m\u001b[1;33m}\u001b[0m\u001b[1;33m\u001b[0m\u001b[0m\n\u001b[0;32m     11\u001b[0m     \u001b[0msong_list\u001b[0m \u001b[1;33m=\u001b[0m \u001b[1;33m[\u001b[0m\u001b[1;33m]\u001b[0m\u001b[1;33m\u001b[0m\u001b[0m\n",
      "\u001b[1;32m~\\AppData\\Local\\Continuum\\Anaconda3\\lib\\json\\__init__.py\u001b[0m in \u001b[0;36mloads\u001b[1;34m(s, encoding, cls, object_hook, parse_float, parse_int, parse_constant, object_pairs_hook, **kw)\u001b[0m\n\u001b[0;32m    352\u001b[0m             \u001b[0mparse_int\u001b[0m \u001b[1;32mis\u001b[0m \u001b[1;32mNone\u001b[0m \u001b[1;32mand\u001b[0m \u001b[0mparse_float\u001b[0m \u001b[1;32mis\u001b[0m \u001b[1;32mNone\u001b[0m \u001b[1;32mand\u001b[0m\u001b[1;33m\u001b[0m\u001b[0m\n\u001b[0;32m    353\u001b[0m             parse_constant is None and object_pairs_hook is None and not kw):\n\u001b[1;32m--> 354\u001b[1;33m         \u001b[1;32mreturn\u001b[0m \u001b[0m_default_decoder\u001b[0m\u001b[1;33m.\u001b[0m\u001b[0mdecode\u001b[0m\u001b[1;33m(\u001b[0m\u001b[0ms\u001b[0m\u001b[1;33m)\u001b[0m\u001b[1;33m\u001b[0m\u001b[0m\n\u001b[0m\u001b[0;32m    355\u001b[0m     \u001b[1;32mif\u001b[0m \u001b[0mcls\u001b[0m \u001b[1;32mis\u001b[0m \u001b[1;32mNone\u001b[0m\u001b[1;33m:\u001b[0m\u001b[1;33m\u001b[0m\u001b[0m\n\u001b[0;32m    356\u001b[0m         \u001b[0mcls\u001b[0m \u001b[1;33m=\u001b[0m \u001b[0mJSONDecoder\u001b[0m\u001b[1;33m\u001b[0m\u001b[0m\n",
      "\u001b[1;32m~\\AppData\\Local\\Continuum\\Anaconda3\\lib\\json\\decoder.py\u001b[0m in \u001b[0;36mdecode\u001b[1;34m(self, s, _w)\u001b[0m\n\u001b[0;32m    337\u001b[0m \u001b[1;33m\u001b[0m\u001b[0m\n\u001b[0;32m    338\u001b[0m         \"\"\"\n\u001b[1;32m--> 339\u001b[1;33m         \u001b[0mobj\u001b[0m\u001b[1;33m,\u001b[0m \u001b[0mend\u001b[0m \u001b[1;33m=\u001b[0m \u001b[0mself\u001b[0m\u001b[1;33m.\u001b[0m\u001b[0mraw_decode\u001b[0m\u001b[1;33m(\u001b[0m\u001b[0ms\u001b[0m\u001b[1;33m,\u001b[0m \u001b[0midx\u001b[0m\u001b[1;33m=\u001b[0m\u001b[0m_w\u001b[0m\u001b[1;33m(\u001b[0m\u001b[0ms\u001b[0m\u001b[1;33m,\u001b[0m \u001b[1;36m0\u001b[0m\u001b[1;33m)\u001b[0m\u001b[1;33m.\u001b[0m\u001b[0mend\u001b[0m\u001b[1;33m(\u001b[0m\u001b[1;33m)\u001b[0m\u001b[1;33m)\u001b[0m\u001b[1;33m\u001b[0m\u001b[0m\n\u001b[0m\u001b[0;32m    340\u001b[0m         \u001b[0mend\u001b[0m \u001b[1;33m=\u001b[0m \u001b[0m_w\u001b[0m\u001b[1;33m(\u001b[0m\u001b[0ms\u001b[0m\u001b[1;33m,\u001b[0m \u001b[0mend\u001b[0m\u001b[1;33m)\u001b[0m\u001b[1;33m.\u001b[0m\u001b[0mend\u001b[0m\u001b[1;33m(\u001b[0m\u001b[1;33m)\u001b[0m\u001b[1;33m\u001b[0m\u001b[0m\n\u001b[0;32m    341\u001b[0m         \u001b[1;32mif\u001b[0m \u001b[0mend\u001b[0m \u001b[1;33m!=\u001b[0m \u001b[0mlen\u001b[0m\u001b[1;33m(\u001b[0m\u001b[0ms\u001b[0m\u001b[1;33m)\u001b[0m\u001b[1;33m:\u001b[0m\u001b[1;33m\u001b[0m\u001b[0m\n",
      "\u001b[1;32m~\\AppData\\Local\\Continuum\\Anaconda3\\lib\\json\\decoder.py\u001b[0m in \u001b[0;36mraw_decode\u001b[1;34m(self, s, idx)\u001b[0m\n\u001b[0;32m    355\u001b[0m             \u001b[0mobj\u001b[0m\u001b[1;33m,\u001b[0m \u001b[0mend\u001b[0m \u001b[1;33m=\u001b[0m \u001b[0mself\u001b[0m\u001b[1;33m.\u001b[0m\u001b[0mscan_once\u001b[0m\u001b[1;33m(\u001b[0m\u001b[0ms\u001b[0m\u001b[1;33m,\u001b[0m \u001b[0midx\u001b[0m\u001b[1;33m)\u001b[0m\u001b[1;33m\u001b[0m\u001b[0m\n\u001b[0;32m    356\u001b[0m         \u001b[1;32mexcept\u001b[0m \u001b[0mStopIteration\u001b[0m \u001b[1;32mas\u001b[0m \u001b[0merr\u001b[0m\u001b[1;33m:\u001b[0m\u001b[1;33m\u001b[0m\u001b[0m\n\u001b[1;32m--> 357\u001b[1;33m             \u001b[1;32mraise\u001b[0m \u001b[0mJSONDecodeError\u001b[0m\u001b[1;33m(\u001b[0m\u001b[1;34m\"Expecting value\"\u001b[0m\u001b[1;33m,\u001b[0m \u001b[0ms\u001b[0m\u001b[1;33m,\u001b[0m \u001b[0merr\u001b[0m\u001b[1;33m.\u001b[0m\u001b[0mvalue\u001b[0m\u001b[1;33m)\u001b[0m \u001b[1;32mfrom\u001b[0m \u001b[1;32mNone\u001b[0m\u001b[1;33m\u001b[0m\u001b[0m\n\u001b[0m\u001b[0;32m    358\u001b[0m         \u001b[1;32mreturn\u001b[0m \u001b[0mobj\u001b[0m\u001b[1;33m,\u001b[0m \u001b[0mend\u001b[0m\u001b[1;33m\u001b[0m\u001b[0m\n",
      "\u001b[1;31mJSONDecodeError\u001b[0m: Expecting value: line 1 column 1 (char 0)"
     ]
    }
   ],
   "source": [
    "%%time\n",
    "song_dict = []\n",
    "cnt = 0\n",
    "for singer in singers:\n",
    "    _, ly_dict = melon_search(singer)\n",
    "    #print(ly_dict)\n",
    "    song_dict.append(ly_dict)\n",
    "    cnt += len(ly_dict)\n",
    "    print ('total: '+str(cnt))"
   ]
  },
  {
   "cell_type": "code",
   "execution_count": 8,
   "metadata": {},
   "outputs": [],
   "source": [
    "with open('songs_dict_data.txt', 'r') as f:\n",
    "    songs_dict=json.load(f)\n",
    "songs_dict.append(song_dict)"
   ]
  },
  {
   "cell_type": "code",
   "execution_count": 9,
   "metadata": {},
   "outputs": [],
   "source": [
    "with open('songs_dict_data.txt', 'w') as f:\n",
    "    json.dump(songs_dict, f)"
   ]
  },
  {
   "cell_type": "markdown",
   "metadata": {},
   "source": [
    "# POS TAGGING"
   ]
  },
  {
   "cell_type": "code",
   "execution_count": 46,
   "metadata": {},
   "outputs": [],
   "source": [
    "from konlpy.tag import Twitter\n",
    "twitter=Twitter()"
   ]
  },
  {
   "cell_type": "code",
   "execution_count": 47,
   "metadata": {},
   "outputs": [
    {
     "name": "stdout",
     "output_type": "stream",
     "text": [
      "56\n"
     ]
    }
   ],
   "source": [
    "with open('songs_dict_data.txt', 'r') as f:\n",
    "    songs_dict=json.load(f)\n",
    "print(len(songs_dict))"
   ]
  },
  {
   "cell_type": "code",
   "execution_count": 48,
   "metadata": {},
   "outputs": [],
   "source": [
    "keys = []\n",
    "for i in range(len(songs_dict)):\n",
    "    keys.append(list(songs_dict[i].keys()))"
   ]
  },
  {
   "cell_type": "code",
   "execution_count": 49,
   "metadata": {},
   "outputs": [
    {
     "data": {
      "text/plain": [
       "'내게 안긴 여명과 나를 감싼 하늘아 듣거라 듣거라 또 다시 나의 마음을 흔들지 말고 살아왔던 날들과 살고자 하는 날이 어제와 다르지 않도록 나의 숨 속에 살아 있거라 그 어떤 미련도 부질없으니 나를 깨워라 깨워라 내가 잠들지 않게 이 모진 운명에 절대 쓰러지지 않게 차라리 나를 지켜주지 못하겠거든 날 데려 가다오 다시 어둠이 삼키지 않게 묻어둔 내 사랑도 굽이치던 야망도 가거라 가거라 나에겐 결코 너희가 벗은 아니니 그 어떤 미련도 부질없으니 나를 깨워라 깨워라 내가 잠들지 않게 이 모진 운명에 절대 쓰러지지 않게 차라리 나를 지켜주지 못하겠거든 날 데려 가다오 나를 깨워라 쓰러지지 않게 차라리 나를 지켜주지 못하겠거든 날 데려 가다오 다시 어둠이 삼키지 않게 결코 운명에 쓰러지지 않게'"
      ]
     },
     "execution_count": 49,
     "metadata": {},
     "output_type": "execute_result"
    }
   ],
   "source": [
    "' '.join(songs_dict[0][keys[0][2]])"
   ]
  },
  {
   "cell_type": "code",
   "execution_count": 50,
   "metadata": {},
   "outputs": [
    {
     "data": {
      "text/plain": [
       "['개구쟁이',\n",
       " '너를 업던 기억',\n",
       " '안녕',\n",
       " '젊은 날의 초상',\n",
       " '산 할아버지',\n",
       " '안녕이란 말은 너무 어려워',\n",
       " '당신이 날 불러주기 전에는',\n",
       " '초야',\n",
       " '독백',\n",
       " '둘이서',\n",
       " '꼬마야',\n",
       " '어머니와 고등어',\n",
       " '시인과 나',\n",
       " '시간 (Feat. 고상지)']"
      ]
     },
     "execution_count": 50,
     "metadata": {},
     "output_type": "execute_result"
    }
   ],
   "source": [
    "keys[-1]"
   ]
  },
  {
   "cell_type": "code",
   "execution_count": 51,
   "metadata": {},
   "outputs": [],
   "source": [
    "words = []\n",
    "for i, key in enumerate(keys):\n",
    "    for song in key:\n",
    "        pos = (twitter.morphs(' '.join( songs_dict[i][song])))\n",
    "    words += pos"
   ]
  },
  {
   "cell_type": "code",
   "execution_count": 52,
   "metadata": {},
   "outputs": [
    {
     "data": {
      "text/plain": [
       "1989"
      ]
     },
     "execution_count": 52,
     "metadata": {},
     "output_type": "execute_result"
    }
   ],
   "source": [
    "len(set(words))"
   ]
  },
  {
   "cell_type": "code",
   "execution_count": 53,
   "metadata": {
    "scrolled": true
   },
   "outputs": [
    {
     "name": "stdout",
     "output_type": "stream",
     "text": [
      "`친구`라 말할 수 있는 건 : 34\n",
      "사랑한 후에 (2006 Ver.) : 34\n",
      "고여 : 32\n",
      "사랑한 후에 : 38\n",
      "슬픔이 올때 : 46\n",
      "내일을 향해 : 28\n",
      "노을에 기댄 이유 : 13\n",
      "서시 (2006 Ver.) : 36\n",
      "이연(異緣) : 30\n",
      "서시 : 25\n",
      "발자국 : 48\n",
      "사랑해 그리고 기억해 : 1\n",
      "새 살 : 34\n",
      "내 맘 모르지 : 26\n",
      "하기 싫은 말 : 28\n",
      "거짓말 하는 법 : 27\n",
      "흉터 : 40\n",
      "흩어져 : 49\n",
      "그대여 : 38\n",
      "남자야 : 43\n",
      "녹슨 가슴 : 57\n",
      "이런 남자 : 65\n",
      "Bye Bye Bye : 36\n",
      "가슴으로 외쳐 (Rap Feat. Rhymer) : 52\n",
      "누군가를 떠나 보낸다는 건 : 36\n",
      "With Me : 57\n",
      "사랑 그 몹쓸 병 : 40\n",
      "불치병 (Feat. Masta Wu) : 107\n",
      "다시 만난 날 : 65\n",
      "일년이면 : 58\n",
      "Insomnia (불면증) : 56\n",
      "안 되나요.. (부제: 화양연화) : 33\n",
      "Special Love : 47\n",
      "결혼까지 생각했어 : 55\n",
      "사랑은 맛있다♡ : 69\n",
      "전할 수 없는 이야기 (부제:시티 오브 엔젤) : 41\n",
      "안되나요 : 30\n",
      "Rain Drop (With G.고릴라) : 43\n",
      "가슴 시린 이야기 (Feat. 용준형 Of Beast) : 59\n",
      "너라는 명작 : 59\n",
      "My Love (And) : 28\n",
      "은인 : 46\n",
      "가시 : 28\n",
      "가난한 사랑 : 26\n",
      "거짓말 : 31\n",
      "남자를 몰라 : 47\n",
      "사랑은 가슴이 시킨다 Part.3 : 37\n",
      "어쩌면... : 57\n",
      "사랑하지 않은 것처럼 : 29\n",
      "활주 (`나루토` 여는 노래) : 46\n",
      "Monologue : 42\n",
      "My Darling (End) : 34\n",
      "나에게로 떠나는 여행 : 38\n",
      "겁쟁이 : 44\n",
      "비망록 (스물의노래) : 43\n",
      "말리꽃 : 29\n",
      "서쪽 하늘 : 41\n",
      "Never Ending Story : 22\n",
      "My Love : 39\n",
      "아마추어 : 43\n",
      "그 사람 : 30\n",
      "잊었니 : 33\n",
      "듣고 있나요 : 53\n",
      "인연 : 30\n",
      "소리쳐 : 46\n",
      "그런 사람 또 없습니다 : 24\n",
      "인연 (드라마 `불새`) : 29\n",
      "사랑 참 어렵다 : 30\n",
      "가슴으로 운다 (Feat. 아이린, 윤미) : 37\n",
      "눈부신 눈물 : 1\n",
      "누구보다 널 사랑해 : 44\n",
      "여자는 나쁜남자를 좋아한다 : 29\n",
      "돌아올순 없나요 : 23\n",
      "네게 줄 수 있는건 오직 사랑뿐 : 23\n",
      "별이될께 : 37\n",
      "별이 될께 : 37\n",
      "배운게 사랑이라 : 46\n",
      "사랑 참... : 27\n",
      "She`s Gone : 68\n",
      "기억을 걷다보면 : 44\n",
      "이 노랠 빌려서 (Feat. 이로울 & 아이린) : 43\n",
      "미인 : 44\n",
      "혼자 왔어요 : 39\n",
      "Beautiful Life : 53\n",
      "사랑합니다 : 41\n",
      "눈을 보고 말해요 : 40\n",
      "미치겠다 (With V.O.S) : 1\n",
      "젊은날 : 39\n",
      "울어 : 56\n",
      "나이젠 : 32\n",
      "보고싶은 날엔.. : 39\n",
      "기다릴게 : 42\n",
      "시한부 : 27\n",
      "큰일이다 : 47\n",
      "매일매일 : 50\n",
      "이젠 남이야. (Feat. Baby-J Of Jewelry) : 44\n",
      "부디 : 38\n",
      "반쪽 : 48\n",
      "다시 시작해보자 : 41\n",
      "내 사람 : 47\n",
      "감사 : 44\n",
      "동행 : 52\n",
      "기억의 습작 : 36\n",
      "그게 나야 : 27\n",
      "사랑한다는 말 : 42\n",
      "출발 : 41\n",
      "기적 (Duet With 이소은) : 38\n",
      "Replay : 42\n",
      "다시 사랑한다 말할까 : 48\n",
      "취중진담 : 57\n",
      "아이처럼 : 37\n",
      "오래된 노래 : 37\n",
      "그대네요 : 43\n",
      "다정하게, 안녕히 : 37\n",
      "희재 : 42\n",
      "너의 모든 순간 : 30\n",
      "좋을텐데 : 40\n",
      "두사람 : 38\n",
      "내일 할 일 : 47\n",
      "내게 오는 길 : 21\n",
      "넌 감동이었어 : 28\n",
      "너는 나의 봄이다 : 1\n",
      "제주도의 푸른 밤 : 34\n",
      "너에게 : 48\n",
      "한번 더 이별 : 46\n",
      "거리에서 : 1\n",
      "안녕 나의 사랑 : 56\n",
      "Let Me Say Goodbye : 47\n",
      "일년을 하루같이 : 48\n",
      "It`s Alright, It`s Allgood (Feat. 윤미래[T]) : 79\n",
      "가슴앓이 : 41\n",
      "소나무 : 25\n",
      "사랑..그 놈 : 35\n",
      "오직 그대만 : 56\n",
      "고래의 꿈 (Falling In Love Again) (Feat. 김영근) : 33\n",
      "바래다주고 오는길 : 32\n",
      "MaMa : 29\n",
      "사랑할 수 있을때 (Feat. 정인) : 38\n",
      "남자답게 : 1\n",
      "사랑한다 할 수 있기에 : 30\n",
      "러브 레시피 : 52\n",
      "한잔 더 : 50\n",
      "Never Ending Story : 26\n",
      "생각이나 : 27\n",
      "비와 당신의 이야기 : 17\n",
      "사랑할수록 : 28\n",
      "아름다운 사실 : 23\n",
      "친구야 너는 아니 : 52\n",
      "추억이면 (異面) : 31\n",
      "비밀 (Special Vocal. 박완규) : 40\n",
      "사랑하고 있다 : 30\n",
      "마지막 콘서트 : 45\n",
      "Lonely Night : 38\n",
      "사랑이란건 : 41\n",
      "사랑해서 사랑해서 : 44\n",
      "오늘 서울은 하루종일 맑음 (Vocal 윤하) : 41\n",
      "세 사람 (With 성시경) : 56\n",
      "내가 너의 곁에 잠시 살았다는걸 : 34\n",
      "너의 바다에 머무네 (With 김동률) : 40\n",
      "언젠가 우리 다시 만나면 (Feat. 김연우) : 32\n",
      "Reset (With 이적) : 35\n",
      "좋은 사람 (Feat. 김형중) : 42\n",
      "인생은 아름다워 (With 다이나믹듀오 & Zion. T & Crush) : 93\n",
      "내가 너의 곁에 잠시 살았다는 걸 : 29\n",
      "그럴때마다 : 38\n",
      "뜨거운 안녕 (Vocal 이지형) : 42\n",
      "그녀가 말했다 (With 권진아) : 31\n",
      "바램 : 20\n",
      "U & I (With Crush & 빈지노) : 71\n",
      "내사람 : 26\n",
      "세글자 : 45\n",
      "사랑하길 정말 잘했어요 : 25\n",
      "살다가 : 40\n",
      "사랑하자 : 37\n",
      "바람만바람만 : 28\n",
      "해바라기 : 60\n",
      "라라라 : 38\n",
      "아리랑 : 47\n",
      "한여름날의 꿈 (Feat. 옥주현) : 40\n",
      "죄와벌 : 36\n",
      "내사랑 울보 : 45\n",
      "광 (狂) : 26\n",
      "가시리 : 52\n",
      "Timeless : 38\n",
      "소주 한 잔 : 36\n",
      "내가 저지른 사랑 : 36\n",
      "이미 나에게로 : 52\n",
      "또 다시 사랑 : 39\n",
      "소주한잔 : 25\n",
      "그때 또 다시 (Again) : 50\n",
      "나란놈이란 : 27\n",
      "날 닮은 너 : 32\n",
      "Love Affair : 34\n",
      "흔한 노래 : 35\n",
      "결혼해줘 : 34\n",
      "오랜만이야 : 47\n",
      "기다리는 이유 : 33\n",
      "슬픈 혼잣말 : 34\n",
      "꽃비 : 20\n",
      "꿈꾸는 소녀 Two : 29\n",
      "오늘은 : 13\n",
      "박하사탕 : 26\n",
      "잊을게 : 40\n",
      "나는 나비 (2011 Ver.) : 37\n",
      "잊을께 : 31\n",
      "너를 보내고 : 29\n",
      "사랑 Two : 23\n",
      "가을 우체국 앞에서 : 19\n",
      "나는 나비 : 31\n",
      "Dreamer : 45\n",
      "담배가게 아가씨 : 58\n",
      "흰수염고래 : 29\n",
      "꿈꾸는 소녀 : 23\n",
      "벌써일년 : 39\n",
      "언제나 그랬죠 : 41\n",
      "For You : 44\n",
      "가지마 가지마 : 47\n",
      "그녀가 나를 보네... : 37\n",
      "점점 : 33\n",
      "With Coffee : 47\n",
      "옛 사랑 (Duet 장혜진) : 42\n",
      "너 때문에 : 34\n",
      "벌써 일년 : 39\n",
      "비오는 압구정 : 27\n",
      "이 노래 : 50\n",
      "너에게 들려주고 싶은 두번째 이야기 : 88\n",
      "떠나지마 : 32\n",
      "Talk About Love : 102\n",
      "비가 와요 : 42\n",
      "슬픔 속에 그댈 지워야만 해 : 37\n",
      "My Love : 24\n",
      "가슴이 시린 게 : 49\n",
      "사랑했지만 (상감마마 납시오) : 21\n",
      "내꺼중에 최고 : 1\n",
      "흘러내려 : 66\n",
      "비가 내려와 : 48\n",
      "30분전 (Feat. 임정희) : 42\n",
      "날 닮은 너 : 27\n",
      "슬픔속에 그댈 지워야만 해 : 61\n",
      "Show Me The Money : 142\n",
      "헤어진 다음날 : 32\n",
      "그대라서 : 49\n",
      "It Girl : 42\n",
      "울지 말자 : 59\n",
      "남자니까 웃는거야 : 34\n",
      "너만을 느끼며 : 58\n",
      "사랑이 아냐 : 37\n",
      "내겐 전부니까 : 53\n",
      "어디쯤 왔니 : 40\n",
      "슬픔을 참는 세 가지 방법 : 52\n",
      "이젠 잊기로 해요 : 44\n",
      "밥만 잘 먹더라 : 48\n",
      "나만의 슬픔 : 28\n",
      "너 내게로 와라 : 54\n",
      "딜레마 : 51\n",
      "가로수 그늘 아래 서면 : 43\n",
      "기억속의 먼 그대에게 (팥의 전사 호빵왕자) : 41\n",
      "가슴 아파도 : 29\n",
      "환희 : 40\n",
      "사진 (평창의 마스코트 나야나 수호랑, 넌 내게 반했어 반다비) : 49\n",
      "널 붙잡을 노래 (팥의 전사 호빵왕자) : 47\n",
      "내사람 : 43\n",
      "내가 더 아플게 : 28\n",
      "잊지말아요 (팥의 전사 호빵왕자) : 32\n",
      "아프다 : 31\n",
      "사랑이 아프다 : 50\n",
      "바보가슴 : 29\n",
      "바람이 되어서라도 : 31\n",
      "남자답게 : 29\n",
      "Tomorrow : 37\n",
      "정류장 : 26\n",
      "향수 : 32\n",
      "정말로 사랑한다면 : 67\n",
      "동경소녀 : 39\n",
      "꽃송이가 : 47\n",
      "첫사랑 : 37\n",
      "막걸리나 : 44\n",
      "벚꽃 엔딩 : 51\n",
      "처음엔 사랑이란게 : 46\n",
      "잘할 걸 : 35\n",
      "그댈 마주하는건 힘들어 (그마힘) : 52\n",
      "외로움증폭장치 (브래드 드럼 한판 쉬기) : 32\n",
      "그댄 달라요 : 40\n",
      "사랑은 타이밍 : 45\n",
      "여수 밤바다 : 30\n",
      "아름답게 사랑하는 날까지 : 31\n",
      "이수(離愁) : 34\n",
      "Shout : 50\n",
      "사랑 그 시린 아픔으로 : 19\n",
      "나의 사랑 천상(天上)에서도 : 38\n",
      "와인 : 1\n",
      "금지된 사랑 : 31\n",
      "나를 슬프게 하는 사람들 : 58\n",
      "사랑했지만 : 21\n",
      "대답 없는 너 : 31\n",
      "슬픈 영혼의 아리아 [엘리제] : 30\n",
      "Don`t Be Quiet! : 37\n",
      "비정(非情) : 23\n",
      "비정 : 23\n",
      "사랑과 우정 사이 (With 김연우) (피노키오) : 29\n",
      "촌스럽게 왜 이래 (You Don`t Know Love) : 70\n",
      "말해! 뭐해? : 46\n",
      "어떻게 사랑이 그래요 (바다의 귀염둥이 아기해마) : 44\n",
      "Love Blossom (러브블러썸) : 84\n",
      "가슴이 뛴다 : 40\n",
      "그립고 그립고 그립다 : 35\n",
      "러브119 (Feat. MC몽) : 76\n",
      "선물 (Feat. 은지원) : 44\n",
      "이러지마 제발 (Please Don`t...) : 41\n",
      "그게 뭐라고 : 76\n",
      "Lay Back : 91\n",
      "니가 필요해 (I Need You) : 38\n",
      "눈물이 뚝뚝 : 46\n",
      "꽃이 핀다 : 40\n",
      "오늘부터 1일 (Day 1) : 53\n",
      "만약에 말야 (화생방실 클레오파트라) (Bonus Track) : 30\n",
      "여전히 아름다운지 : 26\n",
      "가질 수 없는 너  (화생방실 클레오파트라) (Bonus Track) : 28\n",
      "사랑한다는 흔한 말 : 30\n",
      "그럴때마다 : 38\n",
      "나와 같다면 (김장훈) : 27\n",
      "이 밤이 지나면 (화생방실 클레오파트라) (Bonus Track) : 33\n",
      "이미 넌 고마운 사람 : 23\n",
      "세상이 그대를 속일지라도 : 25\n",
      "내가 너의 곁에 잠시 살았다는 걸 : 19\n",
      "사랑.. 그 놈 (화생방실 클레오파트라) : 30\n",
      "이별택시 : 26\n",
      "내가 너의 곁에 잠시 살았다는 걸 (Unplugged Ver.) : 26\n",
      "사랑할수록 (화생방실 클레오파트라) : 26\n",
      "그댄 행복에 살텐데 : 39\n",
      "사랑해요 : 38\n",
      "하루 : 40\n",
      "바보같은 내게 : 39\n",
      "사랑의 시작은 고백에서부터 : 28\n",
      "보고 싶다 : 25\n",
      "끝사랑 : 31\n",
      "슬픔활용법 : 29\n",
      "제발 : 30\n",
      "오직 너만 : 30\n",
      "너에게 간다 : 48\n",
      "너의 집 앞에서 : 36\n",
      "슬픔보다 더 슬픈 이야기 : 38\n",
      "지나간다 : 21\n",
      "빨래 : 44\n",
      "어느 날 (Duet With 김윤아) : 34\n",
      "그대랑 : 42\n",
      "매듭 : 35\n",
      "오래전 그날 : 38\n",
      "하늘을 달리다 : 33\n",
      "걱정말아요 그대 : 25\n",
      "그땐 미처 알지 못했지 (Feat. 하림 On Harmonica) : 1\n",
      "비포 선라이즈 (Duet With 정인) : 32\n",
      "같이 걸을까 : 18\n",
      "Rain : 31\n",
      "거짓말 거짓말 거짓말 : 34\n",
      "웃어라 그대 (Smile, My Love) : 51\n",
      "다행이다 : 30\n",
      "그땐 미처 알지 못했지 : 22\n",
      "발자국 : 48\n",
      "사랑해 그리고 기억해 : 1\n",
      "새 살 : 34\n",
      "내 맘 모르지 : 26\n",
      "하기 싫은 말 : 28\n",
      "거짓말 하는 법 : 27\n",
      "흉터 : 40\n",
      "흩어져 : 49\n",
      "그대여 : 38\n",
      "남자야 : 43\n",
      "녹슨 가슴 : 57\n",
      "이런 남자 : 65\n",
      "Bye Bye Bye : 36\n",
      "가슴으로 외쳐 (Rap Feat. Rhymer) : 52\n",
      "누군가를 떠나 보낸다는 건 : 36\n",
      "나를 사랑했던 사람아 : 31\n",
      "나를 잊지 말아요 : 44\n",
      "I Need You : 75\n",
      "한사람 : 50\n",
      "Hello : 43\n",
      "반창고 : 88\n",
      "동네술집 : 39\n",
      "향기만 남아 : 38\n",
      "언제나 : 1\n",
      "죽고 싶단 말 밖에 : 29\n",
      "모노드라마 (With 유승우) : 50\n",
      "행복한 나를 (Feat. 존박) : 1\n",
      "혼자, 한잔 : 42\n",
      "짧은머리 : 43\n",
      "사월의 눈 : 35\n",
      "피 (避) : 34\n",
      "Sea Of Love : 63\n",
      "중력 (Gravity) : 45\n",
      "Day By Day : 36\n",
      "전화하지 말아요 : 28\n",
      "습관 : 47\n",
      "너를 너를 너를 : 34\n",
      "그대는 모르죠 (Good-bye) : 27\n",
      "그렇게 됐어 : 41\n",
      "남자답게 : 26\n",
      "취중진담 (Feat. AND) : 51\n",
      "Missing You : 43\n",
      "구속 : 34\n",
      "가슴 아파도 : 29\n",
      "첫사랑이죠 : 40\n",
      "겁이 나서 : 36\n",
      "하루의 끝 : 30\n",
      "남자가 여자를 사랑할 때 : 32\n",
      "기대 : 41\n",
      "멍청이 : 31\n",
      "뒷모습 : 53\n",
      "늦은 후회 : 34\n",
      "동감 (아미노업 CF `편의점` 권상우편) : 41\n",
      "그게 너라고 : 53\n",
      "그런일은 : 37\n",
      "중독 : 37\n",
      "나였으면 : 31\n",
      "창문을 열어놓고 : 45\n",
      "면사포 : 38\n",
      "하기 힘든 말 : 39\n",
      "우리 헤어지자 : 45\n",
      "착한거짓말 : 39\n",
      "나 군대 간다 : 21\n",
      "되돌리다 : 48\n",
      "원하고 원망하죠 : 30\n",
      "연애시대 (Feat. Ra.D) (Narr. 한효주) : 61\n",
      "다 줄꺼야 : 32\n",
      "결혼해줄래 : 61\n",
      "여행을 떠나요 : 43\n",
      "추억속의 그대 : 42\n",
      "내 여자라니까 : 38\n",
      "삭제 : 42\n",
      "사랑이 술을 가르쳐 (Feat. 백찬 From 8eight) : 44\n",
      "그댄 행복에 살텐데 : 41\n",
      "사랑도... 이별도... : 39\n",
      "감기 : 21\n",
      "미인 (美人) : 29\n",
      "세사람 : 29\n",
      "지금 만나러 가요 : 44\n",
      "비가 오는 날엔 : 19\n",
      "Please : 30\n",
      "아니기를 : 26\n",
      "비바 내 사랑 : 54\n",
      "우리 그만 아프자 : 38\n",
      "언젠가 누군가 : 25\n",
      "왜 그래 : 42\n",
      "또 한번 사랑은 가고 : 56\n",
      "이별이 오지 못하게 : 33\n",
      "꿈을 꾸다 : 41\n",
      "I Love U Oh Thank U (With MC몽) : 62\n",
      "너 때문에 : 66\n",
      "어머님께 : 66\n",
      "Darling U : 53\n",
      "너 하나만 : 45\n",
      "하고싶은 말 : 27\n",
      "봄 여름 가을 겨울 (With 수호) : 78\n",
      "High High : 48\n",
      "사랑비 : 60\n",
      "내가 야! 하면 넌 예! (Duet With LYN) : 73\n",
      "따라가 : 55\n",
      "빗물이 내려서 : 28\n",
      "메아리 : 1\n",
      "그대 그대 그대 : 45\n",
      "그대는 눈물겹다 : 35\n",
      "해바라기도 가끔 목이 아프죠 : 38\n",
      "어디에도 : 44\n",
      "그 남잔 말야 : 35\n",
      "가슴아 그만해 : 40\n",
      "One Love : 25\n",
      "잠시만 안녕 (Original) : 42\n",
      "사랑은 아프려고 하는 거죠 : 31\n",
      "행복하지 말아요 : 62\n",
      "바라보기 : 24\n",
      "입술의 말 : 34\n",
      "어김없이 : 29\n",
      "백야 : 34\n",
      "그대가 분다 : 34\n",
      "After You`ve Gone : 30\n",
      "회상 III : 38\n",
      "사랑하기 전에는 : 33\n",
      "연 (緣) : 29\n",
      "천년의 사랑 : 25\n",
      "영원 (원곡가수 SKY) : 35\n",
      "그녀의 웃음소리 뿐 (Feat. 하림) : 44\n",
      "사랑했어요 (원곡가수 김현식) : 29\n",
      "약속 : 26\n",
      "눈물없는 이별 : 23\n",
      "Lonely Night : 38\n",
      "Alone (카우보이 비밥 엔딩) : 36\n",
      "하루애 : 37\n",
      "비밀 (원곡가수 부활) : 66\n",
      "Lonely Night (원곡가수 부활) : 37\n",
      "고백 : 52\n",
      "Say I Love You : 53\n",
      "너 하나야 : 40\n",
      "추억에 살아 (Feat. 이영현) : 34\n",
      "후회한다 : 43\n",
      "울고, 불고… : 63\n",
      "다시 사랑 할 수 있을까 (Feat. 다비치) : 65\n",
      "안녕 나야 : 50\n",
      "Baby Baby : 38\n",
      "안아보자 : 40\n",
      "못해 (Feat. 美) : 32\n",
      "살다가 한번쯤 : 26\n",
      "My Angel (Feat. 윤후) (MBC `아빠! 어디가?` 윤후 자장가 삽입곡) : 21\n",
      "안되겠더라 : 40\n",
      "청혼하는 거예요 : 52\n",
      "니가 보여 : 40\n",
      "빌려줄게 : 41\n",
      "이유 : 33\n",
      "제발 : 41\n",
      "니가 빈 자리 : 44\n",
      "언제나 괜찮아 : 58\n",
      "그런 사람 (Duet Ver.) : 30\n",
      "인연 : 43\n",
      "사랑하는 그대여 : 22\n",
      "가수가 된 이유 : 46\n",
      "꿈에 (뜨거운 심장 양철로봇) : 28\n",
      "해줄 수 없는 일 (뜨거운 심장 양철로봇) : 42\n",
      "서로의 서로 : 34\n",
      "거리에서 : 50\n",
      "널 사랑한다, 지운다, 또 운다 : 25\n",
      "꼭 한번 만나고 싶다 : 33\n",
      "그 남자 그 여자 (Feat. 장혜진) : 33\n",
      "별이 빛나는 밤에 : 47\n",
      "우리가 다시 만날 날 (연주: 이루마) : 0\n",
      "축가 (Celebrate Love) : 60\n",
      "바래다 주는 길 : 34\n",
      "미워도 다시 한번 (Original Ver.) : 48\n",
      "술이야 : 41\n",
      "좋은 오빠 동생으로만 : 49\n",
      "Promise U : 71\n",
      "마누라 : 40\n",
      "미친거니 : 26\n",
      "썸타 (Lil` Something) : 66\n",
      "다시 와주라 : 36\n",
      "사진을 보다가 : 61\n",
      "말꼬리 : 35\n"
     ]
    },
    {
     "name": "stdout",
     "output_type": "stream",
     "text": [
      "오르막길 : 41\n",
      "너의 결혼식 : 30\n",
      "나이 : 39\n",
      "지친 하루 : 44\n",
      "내일 할 일 : 46\n",
      "끝 무렵 : 56\n",
      "좋니 (Inst.) : 45\n",
      "오래전 그날 : 38\n",
      "고요 : 33\n",
      "좋니 : 45\n",
      "1월부터 6월까지 : 31\n",
      "천애 : 70\n",
      "나만의 신부 (Remix) : 33\n",
      "왜하늘은 : 31\n",
      "내 운명 피하고 싶어 : 51\n",
      "가슴아 미안하다 : 46\n",
      "이별 : 33\n",
      "인형 (Duet. 신혜성) : 43\n",
      "그대와 함께 (너 자신을 알라 소크라테스 & 나를 따르라 김장군) : 29\n",
      "나만의 신부 : 55\n",
      "또 하나의 열매를 바라시며 : 23\n",
      "왜 하늘은... : 31\n",
      "약속 : 22\n",
      "금지된 사랑 (나를 따르라 김장군) : 23\n",
      "언제라도 : 25\n",
      "미안해요 (나를 따르라 김장군) : 30\n",
      "말꼬리 : 35\n",
      "고백 : 43\n",
      "있잖아 널 사랑해 : 39\n",
      "짝사랑 : 17\n",
      "하루만큼 하루만 더 : 35\n",
      "미안해 : 36\n",
      "고요 : 33\n",
      "안아줘 : 35\n",
      "그 계절의 우리 : 26\n",
      "너에게 : 64\n",
      "새겨울 : 37\n",
      "바램 : 32\n",
      "PLASTIC (Feat. 비와이_BewhY) : 80\n",
      "괜찮아 : 17\n",
      "첫 눈 : 56\n",
      "눈의 꽃 : 59\n",
      "기억속의 먼 그대에게 : 33\n",
      "숨 : 38\n",
      "Beautiful Tomorrow : 36\n",
      "추억은 사랑을 닮아 : 59\n",
      "해줄 수 없는 일 : 39\n",
      "야생화 : 40\n",
      "바보 : 16\n",
      "동경 : 40\n",
      "좋은사람 : 31\n",
      "안녕 사랑아 : 31\n",
      "사랑한 후에 : 38\n",
      "HAPPY TOGETHER : 55\n",
      "Home : 59\n",
      "Gift : 37\n",
      "말리꽃 : 29\n",
      "서쪽 하늘 : 41\n",
      "Never Ending Story : 22\n",
      "My Love : 39\n",
      "아마추어 : 43\n",
      "그 사람 : 30\n",
      "잊었니 : 33\n",
      "듣고 있나요 : 53\n",
      "인연 : 30\n",
      "소리쳐 : 46\n",
      "그런 사람 또 없습니다 : 24\n",
      "인연 (드라마 `불새`) : 29\n",
      "사랑 참 어렵다 : 30\n",
      "세상의 중심에서 사랑을 외치다 : 36\n",
      "사랑하니까 : 35\n",
      "이별의 간주곡 : 21\n",
      "백설공주를 사랑한 난장이 : 36\n",
      "Love Song : 50\n",
      "네버엔딩 : 42\n",
      "시간이 지나도 : 42\n",
      "희망 : 27\n",
      "Don`t Cry : 35\n",
      "난장이가 쏘아 올린 작은 공 : 26\n",
      "하루만 한 번만 : 60\n",
      "당신을 위하여 : 26\n",
      "떠나가요, 떠나지마요 : 32\n",
      "가끔씩 눈물이 나죠 : 30\n",
      "별(別) : 48\n",
      "나쁜 마음을 먹게해 (Ballad Ver.) : 52\n",
      "Opening Title (파라다이스 Intro) : 12\n",
      "너의 뒤에서 (리메이크) : 30\n",
      "Wish Ur My Love (with J) : 49\n",
      "Say Yes : 46\n",
      "사랑한 만큼 : 45\n",
      "한번쯤은 : 54\n",
      "청혼 (인생 즐기는 네가 챔피언) : 36\n",
      "사랑합니다... : 29\n",
      "하루가 길다 : 31\n",
      "파라다이스 (메인 테마) : 60\n",
      "남자답지 못한 말 : 27\n",
      "사랑 참 나쁘다 : 38\n",
      "봄이 되어준 그대 : 32\n",
      "걸작품 : 44\n",
      "나를 사랑하는 그대에게 : 39\n",
      "영화관에서 : 29\n",
      "질투가 좋아 : 43\n",
      "우리 잠깐 쉬어갈래요 : 42\n",
      "먼지 : 29\n",
      "조심스러운 이유 : 25\n",
      "입맞춤 : 30\n",
      "그 밤 : 22\n",
      "Moonlight : 0\n",
      "부끄럼 : 48\n",
      "말해줘요 : 52\n",
      "선물 : 31\n",
      "좋아요 : 46\n",
      "나만 안되는 연애 : 61\n",
      "사랑에 빠졌을 때 : 57\n",
      "프리지아 : 29\n",
      "You(=I) : 46\n",
      "심술 : 44\n",
      "X Song : 34\n",
      "남이 될 수 있을까 : 43\n",
      "좋다고 말해 : 60\n",
      "반지 : 36\n",
      "처음부터 너와 나 : 49\n",
      "드림 : 45\n",
      "초콜릿 : 50\n",
      "우주를 줄게 : 64\n",
      "가리워진 길 : 26\n",
      "싸운날 : 53\n",
      "썸타 (Lil` Something) : 66\n",
      "Underwater : 57\n",
      "And July (Feat. DEAN, DJ Friz) : 78\n",
      "클럽이라도 좀 가 : 88\n",
      "먹구름 (Feat. nafla) : 58\n",
      "비도 오고 그래서 (Feat. 신용재) : 59\n",
      "내 남자친구가 고맙대 : 91\n",
      "Shut Up & Groove (Feat. DEAN) : 67\n",
      "조금만 더 방황하고 (Feat. Crucial Star) : 90\n",
      "Round and round (Feat. 한수지) : 48\n",
      "돌아오지마 (Feat. 용준형 Of 비스트) : 66\n",
      "저 별 : 58\n",
      "돌아오지마 (Acoustic Ver.) : 45\n",
      "널 너무 모르고 : 53\n",
      "너와 함께한 시간 속에서 : 30\n",
      "널 위해 배운 이별 (Goodbye...) : 31\n",
      "잠시나마 : 36\n",
      "아버지 : 28\n",
      "봄이라서 (One Spring Day) : 30\n",
      "사랑 그 한마디 (Alone) : 32\n",
      "고해 : 27\n",
      "매일 듣는 노래 (A Daily Song) : 45\n",
      "슬픈 언약식 : 40\n",
      "그대라는 사치 (짐승남 강백호) : 56\n",
      "그리워 그리워서 (이영 Ver.) : 40\n",
      "너 없이 못 살아 : 51\n",
      "같이 가자 (with you) : 29\n",
      "각 (Angle) : 52\n",
      "너를 처음 만난 그때 : 34\n",
      "나보다 조금 더 높은 곳에 니가 있을 뿐 : 41\n",
      "너의 의미 (Feat. 김창완) : 31\n",
      "금요일에 만나요 (Feat. 장이정 Of HISTORY) : 39\n",
      "나만 몰랐던 이야기 : 1\n",
      "팔레트 (Feat. G-DRAGON) : 56\n",
      "마음 : 27\n",
      "스물셋 : 88\n",
      "이 지금 : 39\n",
      "좋은 날 : 42\n",
      "나의 옛날이야기 : 23\n",
      "이름에게 : 35\n",
      "사랑이 잘 (With 오혁) : 58\n",
      "이런 엔딩 : 26\n",
      "푸르던 : 36\n",
      "하루 끝 : 48\n",
      "밤편지 : 27\n",
      "어땠을까 : 43\n",
      "가끔 내가 : 33\n",
      "흔한 이별 : 39\n",
      "니 말대로 : 42\n",
      "괜찮다고 : 38\n",
      "눈물 (Tears) : 38\n",
      "어른이 된다는 게 : 45\n",
      "널 미워하지 않길 (Prod. By 하동균) : 46\n",
      "바라고 바라고 : 37\n",
      "꺼내본다 : 43\n",
      "그럴 리가 : 37\n",
      "가슴이 말해 : 41\n",
      "그럴걸 : 36\n",
      "다시 너를 : 77\n",
      "어떻게 사랑이 그래요 (역도요정 김복면) : 42\n",
      "사랑은 은하수 다방에서 : 1\n",
      "Fine Thank You And You? : 22\n",
      "쓰담쓰담 : 38\n",
      "pet : 46\n",
      "Nothing Without You : 35\n",
      "그게 아니고 : 21\n",
      "폰서트 : 61\n",
      "HELP : 59\n",
      "10월의 날씨 : 37\n",
      "스토커 : 38\n",
      "안아줘요 : 32\n",
      "내 눈에만 보여 : 35\n",
      "애상 : 47\n",
      "봄이 좋냐?? : 37\n",
      "Everything : 33\n",
      "지난날 : 56\n",
      "그대 내 품에 : 30\n",
      "가리워진 길 : 22\n",
      "내 마음에 비친 내 모습 : 42\n",
      "그대 내품에 : 33\n",
      "우울한 편지 : 21\n",
      "사랑하기 때문에 : 33\n",
      "Minuet : 0\n",
      "우리들의 사랑 : 38\n",
      "내마음에 비친 내모습 : 42\n",
      "텅빈 오늘 밤 : 49\n",
      "지난 날 : 61\n",
      "이등병의 편지 : 27\n",
      "흐린 가을 하늘에 편지를 써 : 45\n",
      "거리에서 : 53\n",
      "어느 60대 노부부 이야기 : 31\n",
      "그날들 : 32\n",
      "먼지가 되어 : 31\n",
      "잊어야 한다는 마음으로 : 26\n",
      "너무 깊이 생각하지마 : 42\n",
      "사랑했지만 : 21\n",
      "너무 아픈 사랑은 사랑이 아니었음을 : 18\n",
      "변해가네 : 50\n",
      "바람이 불어오는 곳 : 23\n",
      "사랑이라는 이유로 : 12\n",
      "서른 즈음에 : 31\n",
      "I`m In Love : 34\n",
      "라디오를 크게 켜고 : 22\n",
      "너를 그리다 : 45\n",
      "똑같은 날 : 36\n",
      "눈을 보고 말해요 : 53\n",
      "I`m In Love (Piano RMX) : 36\n",
      "Happy Birthday : 1\n",
      "엄마 : 54\n",
      "Lovesome : 50\n",
      "어떤 설레임 : 28\n",
      "여전히 : 35\n",
      "오랜만이죠 (Feat. 신지수) : 50\n",
      "Take Out : 51\n",
      "고마워 고마워 : 51\n",
      "Couple Song (Feat. Kelley) : 49\n",
      "개구쟁이 : 6\n",
      "너를 업던 기억 : 25\n",
      "안녕 : 24\n",
      "젊은 날의 초상 : 26\n",
      "산 할아버지 : 16\n",
      "안녕이란 말은 너무 어려워 : 0\n",
      "당신이 날 불러주기 전에는 : 22\n",
      "초야 : 17\n",
      "독백 : 17\n",
      "둘이서 : 8\n",
      "꼬마야 : 28\n",
      "어머니와 고등어 : 1\n",
      "시인과 나 : 1\n",
      "시간 (Feat. 고상지) : 66\n",
      "total :  30914\n"
     ]
    }
   ],
   "source": [
    "pos_song = {}\n",
    "total = 0\n",
    "for i, key in enumerate(keys):\n",
    "    for song in key:\n",
    "        song_main=[]\n",
    "        print (song, ':' , len(songs_dict[i][song]))\n",
    "        total += len(songs_dict[i][song])\n",
    "        for line in songs_dict[i][song]:\n",
    "            song_main.append(twitter.morphs(line))\n",
    "        pos_song[song] = song_main\n",
    "print ('total : ', total)"
   ]
  },
  {
   "cell_type": "code",
   "execution_count": 54,
   "metadata": {},
   "outputs": [
    {
     "data": {
      "text/plain": [
       "736"
      ]
     },
     "execution_count": 54,
     "metadata": {},
     "output_type": "execute_result"
    }
   ],
   "source": [
    "len(pos_song.keys())"
   ]
  },
  {
   "cell_type": "code",
   "execution_count": 55,
   "metadata": {},
   "outputs": [],
   "source": [
    "with open('input.txt', 'w') as f:\n",
    "    json.dump(pos_song, f)"
   ]
  },
  {
   "cell_type": "markdown",
   "metadata": {},
   "source": [
    "# WORD2VEC"
   ]
  },
  {
   "cell_type": "code",
   "execution_count": 80,
   "metadata": {},
   "outputs": [],
   "source": [
    "import gensim\n",
    "from gensim.models.word2vec import Word2Vec\n",
    "import sys\n",
    "import multiprocessing\n",
    "from tqdm import tqdm"
   ]
  },
  {
   "cell_type": "code",
   "execution_count": 72,
   "metadata": {},
   "outputs": [],
   "source": [
    "cores = multiprocessing.cpu_count()"
   ]
  },
  {
   "cell_type": "code",
   "execution_count": 73,
   "metadata": {},
   "outputs": [],
   "source": [
    "input_w2v = []\n",
    "for i,key in enumerate(keys):\n",
    "    for song in key:\n",
    "        input_w2v += pos_song[song]"
   ]
  },
  {
   "cell_type": "code",
   "execution_count": 74,
   "metadata": {},
   "outputs": [
    {
     "name": "stderr",
     "output_type": "stream",
     "text": [
      "C:\\Users\\asd13\\AppData\\Local\\Continuum\\Anaconda3\\lib\\site-packages\\gensim\\models\\word2vec.py:869: UserWarning: C extension not loaded for Word2Vec, training will be slow. Install a C compiler and reinstall gensim for fast training.\n",
      "  \"C extension not loaded for Word2Vec, training will be slow. \"\n"
     ]
    },
    {
     "name": "stdout",
     "output_type": "stream",
     "text": [
      "Wall time: 4min 33s\n"
     ]
    }
   ],
   "source": [
    "%%time\n",
    "model = Word2Vec(input_w2v, size=300, workers=cores,sg=1 ,min_count=0)"
   ]
  },
  {
   "cell_type": "code",
   "execution_count": 90,
   "metadata": {},
   "outputs": [
    {
     "name": "stderr",
     "output_type": "stream",
     "text": [
      "C:\\Users\\asd13\\AppData\\Local\\Continuum\\Anaconda3\\lib\\site-packages\\gensim\\models\\word2vec.py:869: UserWarning: C extension not loaded for Word2Vec, training will be slow. Install a C compiler and reinstall gensim for fast training.\n",
      "  \"C extension not loaded for Word2Vec, training will be slow. \"\n"
     ]
    },
    {
     "data": {
      "text/plain": [
       "141409"
      ]
     },
     "execution_count": 90,
     "metadata": {},
     "output_type": "execute_result"
    }
   ],
   "source": [
    "model.train(input_w2v,total_examples=model.corpus_count,epochs=1,compute_loss=True)"
   ]
  },
  {
   "cell_type": "code",
   "execution_count": 91,
   "metadata": {},
   "outputs": [
    {
     "name": "stderr",
     "output_type": "stream",
     "text": [
      "  0%|                                                                                           | 0/10 [00:00<?, ?it/s]C:\\Users\\asd13\\AppData\\Local\\Continuum\\Anaconda3\\lib\\site-packages\\gensim\\models\\word2vec.py:869: UserWarning: C extension not loaded for Word2Vec, training will be slow. Install a C compiler and reinstall gensim for fast training.\n",
      "  \"C extension not loaded for Word2Vec, training will be slow. \"\n"
     ]
    },
    {
     "ename": "KeyboardInterrupt",
     "evalue": "",
     "output_type": "error",
     "traceback": [
      "\u001b[1;31m---------------------------------------------------------------------------\u001b[0m",
      "\u001b[1;31mKeyboardInterrupt\u001b[0m                         Traceback (most recent call last)",
      "\u001b[1;32m<timed exec>\u001b[0m in \u001b[0;36m<module>\u001b[1;34m()\u001b[0m\n",
      "\u001b[1;32m~\\AppData\\Local\\Continuum\\Anaconda3\\lib\\site-packages\\gensim\\models\\word2vec.py\u001b[0m in \u001b[0;36mtrain\u001b[1;34m(self, sentences, total_examples, total_words, epochs, start_alpha, end_alpha, word_count, queue_factor, report_delay, compute_loss)\u001b[0m\n\u001b[0;32m   1011\u001b[0m \u001b[1;33m\u001b[0m\u001b[0m\n\u001b[0;32m   1012\u001b[0m         \u001b[1;32mwhile\u001b[0m \u001b[0munfinished_worker_count\u001b[0m \u001b[1;33m>\u001b[0m \u001b[1;36m0\u001b[0m\u001b[1;33m:\u001b[0m\u001b[1;33m\u001b[0m\u001b[0m\n\u001b[1;32m-> 1013\u001b[1;33m             \u001b[0mreport\u001b[0m \u001b[1;33m=\u001b[0m \u001b[0mprogress_queue\u001b[0m\u001b[1;33m.\u001b[0m\u001b[0mget\u001b[0m\u001b[1;33m(\u001b[0m\u001b[1;33m)\u001b[0m  \u001b[1;31m# blocks if workers too slow\u001b[0m\u001b[1;33m\u001b[0m\u001b[0m\n\u001b[0m\u001b[0;32m   1014\u001b[0m             \u001b[1;32mif\u001b[0m \u001b[0mreport\u001b[0m \u001b[1;32mis\u001b[0m \u001b[1;32mNone\u001b[0m\u001b[1;33m:\u001b[0m  \u001b[1;31m# a thread reporting that it finished\u001b[0m\u001b[1;33m\u001b[0m\u001b[0m\n\u001b[0;32m   1015\u001b[0m                 \u001b[0munfinished_worker_count\u001b[0m \u001b[1;33m-=\u001b[0m \u001b[1;36m1\u001b[0m\u001b[1;33m\u001b[0m\u001b[0m\n",
      "\u001b[1;32m~\\AppData\\Local\\Continuum\\Anaconda3\\lib\\queue.py\u001b[0m in \u001b[0;36mget\u001b[1;34m(self, block, timeout)\u001b[0m\n\u001b[0;32m    162\u001b[0m             \u001b[1;32melif\u001b[0m \u001b[0mtimeout\u001b[0m \u001b[1;32mis\u001b[0m \u001b[1;32mNone\u001b[0m\u001b[1;33m:\u001b[0m\u001b[1;33m\u001b[0m\u001b[0m\n\u001b[0;32m    163\u001b[0m                 \u001b[1;32mwhile\u001b[0m \u001b[1;32mnot\u001b[0m \u001b[0mself\u001b[0m\u001b[1;33m.\u001b[0m\u001b[0m_qsize\u001b[0m\u001b[1;33m(\u001b[0m\u001b[1;33m)\u001b[0m\u001b[1;33m:\u001b[0m\u001b[1;33m\u001b[0m\u001b[0m\n\u001b[1;32m--> 164\u001b[1;33m                     \u001b[0mself\u001b[0m\u001b[1;33m.\u001b[0m\u001b[0mnot_empty\u001b[0m\u001b[1;33m.\u001b[0m\u001b[0mwait\u001b[0m\u001b[1;33m(\u001b[0m\u001b[1;33m)\u001b[0m\u001b[1;33m\u001b[0m\u001b[0m\n\u001b[0m\u001b[0;32m    165\u001b[0m             \u001b[1;32melif\u001b[0m \u001b[0mtimeout\u001b[0m \u001b[1;33m<\u001b[0m \u001b[1;36m0\u001b[0m\u001b[1;33m:\u001b[0m\u001b[1;33m\u001b[0m\u001b[0m\n\u001b[0;32m    166\u001b[0m                 \u001b[1;32mraise\u001b[0m \u001b[0mValueError\u001b[0m\u001b[1;33m(\u001b[0m\u001b[1;34m\"'timeout' must be a non-negative number\"\u001b[0m\u001b[1;33m)\u001b[0m\u001b[1;33m\u001b[0m\u001b[0m\n",
      "\u001b[1;32m~\\AppData\\Local\\Continuum\\Anaconda3\\lib\\threading.py\u001b[0m in \u001b[0;36mwait\u001b[1;34m(self, timeout)\u001b[0m\n\u001b[0;32m    293\u001b[0m         \u001b[1;32mtry\u001b[0m\u001b[1;33m:\u001b[0m    \u001b[1;31m# restore state no matter what (e.g., KeyboardInterrupt)\u001b[0m\u001b[1;33m\u001b[0m\u001b[0m\n\u001b[0;32m    294\u001b[0m             \u001b[1;32mif\u001b[0m \u001b[0mtimeout\u001b[0m \u001b[1;32mis\u001b[0m \u001b[1;32mNone\u001b[0m\u001b[1;33m:\u001b[0m\u001b[1;33m\u001b[0m\u001b[0m\n\u001b[1;32m--> 295\u001b[1;33m                 \u001b[0mwaiter\u001b[0m\u001b[1;33m.\u001b[0m\u001b[0macquire\u001b[0m\u001b[1;33m(\u001b[0m\u001b[1;33m)\u001b[0m\u001b[1;33m\u001b[0m\u001b[0m\n\u001b[0m\u001b[0;32m    296\u001b[0m                 \u001b[0mgotit\u001b[0m \u001b[1;33m=\u001b[0m \u001b[1;32mTrue\u001b[0m\u001b[1;33m\u001b[0m\u001b[0m\n\u001b[0;32m    297\u001b[0m             \u001b[1;32melse\u001b[0m\u001b[1;33m:\u001b[0m\u001b[1;33m\u001b[0m\u001b[0m\n",
      "\u001b[1;31mKeyboardInterrupt\u001b[0m: "
     ]
    }
   ],
   "source": [
    "%%time\n",
    "# Train document vectors!\n",
    "for epoch in tqdm(range(10)):\n",
    "    model.train(input_w2v,total_examples=model.corpus_count,epochs=1,compute_loss=True)"
   ]
  },
  {
   "cell_type": "code",
   "execution_count": 92,
   "metadata": {},
   "outputs": [
    {
     "data": {
      "text/plain": [
       "8072"
      ]
     },
     "execution_count": 92,
     "metadata": {},
     "output_type": "execute_result"
    }
   ],
   "source": [
    "len(model.wv.index2word)"
   ]
  },
  {
   "cell_type": "code",
   "execution_count": 93,
   "metadata": {},
   "outputs": [
    {
     "data": {
      "text/plain": [
       "[('마이', 0.9888992309570312),\n",
       " ('Round', 0.9674875140190125),\n",
       " ('face', 0.9672854542732239),\n",
       " ('Small', 0.961097776889801),\n",
       " ('ears', 0.960129976272583),\n",
       " ('ah', 0.9530255198478699),\n",
       " ('blue', 0.9503122568130493),\n",
       " ('Real', 0.9495323896408081),\n",
       " ('Mr', 0.9491331577301025),\n",
       " ('ha', 0.9476248621940613)]"
      ]
     },
     "execution_count": 93,
     "metadata": {},
     "output_type": "execute_result"
    }
   ],
   "source": [
    "model.most_similar('달링')"
   ]
  },
  {
   "cell_type": "code",
   "execution_count": 95,
   "metadata": {},
   "outputs": [],
   "source": [
    "model.save(\"Word2vec.model\")"
   ]
  },
  {
   "cell_type": "markdown",
   "metadata": {},
   "source": [
    "# Word2vec_load"
   ]
  },
  {
   "cell_type": "code",
   "execution_count": 96,
   "metadata": {},
   "outputs": [],
   "source": [
    "model = gensim.models.Word2Vec.load(\"./Word2vec.model\")"
   ]
  },
  {
   "cell_type": "markdown",
   "metadata": {},
   "source": [
    "# Word2vec_pad"
   ]
  },
  {
   "cell_type": "code",
   "execution_count": 97,
   "metadata": {},
   "outputs": [],
   "source": [
    "import numpy as np"
   ]
  },
  {
   "cell_type": "code",
   "execution_count": 98,
   "metadata": {},
   "outputs": [],
   "source": [
    "_PAD_ = \"_PAD_\"  # 빈칸 채우는 심볼\n",
    "_STA_ = \"_STA_\"  # 디코드 입력 시퀀스의 시작 심볼\n",
    "_EOS_ = \"_EOS_\"  # 디코드 입출력 시퀀스의 종료 심볼\n",
    "_UNK_ = \"_UNK_\"  # 사전에 없는 단어를 나타내는 심볼\n",
    "\n",
    "_PAD_ID_ = 0\n",
    "_STA_ID_ = 1\n",
    "_EOS_ID_ = 2\n",
    "_UNK_ID_ = 3\n",
    "_PRE_DEFINED_ = [_PAD_ID_, _STA_ID_, _EOS_ID_, _UNK_ID_]\n",
    "\n",
    "_PRE_DEFINED_dict = {_PAD_:_PAD_ID_, _STA_:_STA_ID_, _EOS_:_EOS_ID_, _UNK_:_UNK_ID_}"
   ]
  },
  {
   "cell_type": "code",
   "execution_count": 99,
   "metadata": {},
   "outputs": [],
   "source": [
    "def ly_len(ly):\n",
    "    cnt = []\n",
    "    for i in ly:\n",
    "        cnt.append(len(i))\n",
    "    try:\n",
    "        max_cnt = max(cnt)\n",
    "    except ValueError:\n",
    "        pass\n",
    "    arg_max_cnt = np.argmax(cnt)\n",
    "    return max_cnt,arg_max_cnt"
   ]
  },
  {
   "cell_type": "code",
   "execution_count": 100,
   "metadata": {},
   "outputs": [],
   "source": [
    "def max_len_f(songs_dict):\n",
    "    max_len = []\n",
    "    for key in list(songs_dict.keys()):\n",
    "        try:\n",
    "            max_cnt, arg_max_cnt = ly_len(songs_dict[key])\n",
    "        except ValueError:\n",
    "            print(key)\n",
    "            pass\n",
    "        max_len.append(max_cnt)\n",
    "    max_len = max(max_len)\n",
    "    return max_len+1"
   ]
  },
  {
   "cell_type": "code",
   "execution_count": 101,
   "metadata": {
    "scrolled": true
   },
   "outputs": [
    {
     "name": "stdout",
     "output_type": "stream",
     "text": [
      "우리가 다시 만날 날 (연주: 이루마)\n",
      "Moonlight\n",
      "Minuet\n",
      "안녕이란 말은 너무 어려워\n"
     ]
    }
   ],
   "source": [
    "max_len = max_len_f(pos_song)"
   ]
  },
  {
   "cell_type": "code",
   "execution_count": 102,
   "metadata": {},
   "outputs": [],
   "source": [
    "del pos_song['우리가 다시 만날 날 (연주: 이루마)']\n",
    "del pos_song['Minuet']\n",
    "del pos_song['Moonlight']\n",
    "del pos_song['안녕이란 말은 너무 어려워']"
   ]
  },
  {
   "cell_type": "code",
   "execution_count": 103,
   "metadata": {},
   "outputs": [],
   "source": [
    "def convert_ly_pos_ly(dict_, keys):\n",
    "    pos_ly_dict={}\n",
    "    for title in keys:\n",
    "        ly = dict_[title]\n",
    "        pos_ly=[]\n",
    "        for line in ly:\n",
    "            pos_ly.append(line)\n",
    "        pos_ly_dict[title] = pos_ly\n",
    "    return pos_ly_dict"
   ]
  },
  {
   "cell_type": "code",
   "execution_count": 104,
   "metadata": {},
   "outputs": [],
   "source": [
    "def padding(seq, max_len, start=None, eos=None):\n",
    "    if start:\n",
    "        padded_seq = [_STA_] + seq\n",
    "    elif eos:\n",
    "        padded_seq = seq + [_EOS_]\n",
    "    else:\n",
    "        padded_seq = seq\n",
    "\n",
    "    if len(padded_seq) < max_len:\n",
    "        return padded_seq + ([_PAD_] * (max_len - len(padded_seq)))\n",
    "    else:\n",
    "        return padded_seq"
   ]
  },
  {
   "cell_type": "code",
   "execution_count": 105,
   "metadata": {},
   "outputs": [],
   "source": [
    "def data_padding(data):\n",
    "    pos_padding_dict = {}\n",
    "    for title in list(data.keys()):\n",
    "        start_padding_line=[]\n",
    "        eos_padding_line=[]\n",
    "        for line in data[title]:\n",
    "            start_padding_line.append(padding(line,max_len,True,None))\n",
    "            eos_padding_line.append(padding(line,max_len,None,True))\n",
    "        pos_padding_dict[title] = start_padding_line+eos_padding_line\n",
    "        \n",
    "    return pos_padding_dict"
   ]
  },
  {
   "cell_type": "code",
   "execution_count": 106,
   "metadata": {},
   "outputs": [],
   "source": [
    "pos_ly_dict = convert_ly_pos_ly(pos_song, list(pos_song.keys()))"
   ]
  },
  {
   "cell_type": "code",
   "execution_count": 107,
   "metadata": {},
   "outputs": [],
   "source": [
    "pos_padding_dict = data_padding(pos_ly_dict)"
   ]
  },
  {
   "cell_type": "code",
   "execution_count": 108,
   "metadata": {},
   "outputs": [],
   "source": [
    "with open('input.txt', 'w') as f:\n",
    "    json.dump(pos_padding_dict, f)"
   ]
  },
  {
   "cell_type": "markdown",
   "metadata": {},
   "source": [
    "## 재학습"
   ]
  },
  {
   "cell_type": "code",
   "execution_count": 109,
   "metadata": {},
   "outputs": [],
   "source": [
    "cores = multiprocessing.cpu_count()"
   ]
  },
  {
   "cell_type": "code",
   "execution_count": 118,
   "metadata": {},
   "outputs": [
    {
     "data": {
      "text/plain": [
       "57852"
      ]
     },
     "execution_count": 118,
     "metadata": {},
     "output_type": "execute_result"
    }
   ],
   "source": [
    "len(input_w2v)"
   ]
  },
  {
   "cell_type": "code",
   "execution_count": 116,
   "metadata": {},
   "outputs": [],
   "source": [
    "input_w2v = []\n",
    "for song in list(pos_padding_dict.keys()):\n",
    "    input_w2v += pos_padding_dict[song]"
   ]
  },
  {
   "cell_type": "code",
   "execution_count": 119,
   "metadata": {},
   "outputs": [],
   "source": [
    "model = gensim.models.Word2Vec.load(\"./Word2vec_pad.model\")"
   ]
  },
  {
   "cell_type": "code",
   "execution_count": 120,
   "metadata": {
    "scrolled": true
   },
   "outputs": [
    {
     "name": "stderr",
     "output_type": "stream",
     "text": [
      "C:\\Users\\asd13\\AppData\\Local\\Continuum\\Anaconda3\\lib\\site-packages\\gensim\\models\\word2vec.py:869: UserWarning: C extension not loaded for Word2Vec, training will be slow. Install a C compiler and reinstall gensim for fast training.\n",
      "  \"C extension not loaded for Word2Vec, training will be slow. \"\n"
     ]
    },
    {
     "ename": "KeyboardInterrupt",
     "evalue": "",
     "output_type": "error",
     "traceback": [
      "\u001b[1;31m---------------------------------------------------------------------------\u001b[0m",
      "\u001b[1;31mKeyboardInterrupt\u001b[0m                         Traceback (most recent call last)",
      "\u001b[1;32m<ipython-input-120-c94d14123c7f>\u001b[0m in \u001b[0;36m<module>\u001b[1;34m()\u001b[0m\n\u001b[0;32m      1\u001b[0m \u001b[0mmodel\u001b[0m\u001b[1;33m.\u001b[0m\u001b[0mbuild_vocab\u001b[0m\u001b[1;33m(\u001b[0m\u001b[0minput_w2v\u001b[0m\u001b[1;33m,\u001b[0m \u001b[0mupdate\u001b[0m\u001b[1;33m=\u001b[0m\u001b[1;32mTrue\u001b[0m\u001b[1;33m)\u001b[0m\u001b[1;33m\u001b[0m\u001b[0m\n\u001b[0;32m      2\u001b[0m \u001b[1;32mfor\u001b[0m \u001b[0mepoch\u001b[0m \u001b[1;32min\u001b[0m \u001b[0mrange\u001b[0m\u001b[1;33m(\u001b[0m\u001b[1;36m100\u001b[0m\u001b[1;33m)\u001b[0m\u001b[1;33m:\u001b[0m\u001b[1;33m\u001b[0m\u001b[0m\n\u001b[1;32m----> 3\u001b[1;33m     \u001b[0mmodel\u001b[0m\u001b[1;33m.\u001b[0m\u001b[0mtrain\u001b[0m\u001b[1;33m(\u001b[0m\u001b[0minput_w2v\u001b[0m\u001b[1;33m,\u001b[0m\u001b[0mtotal_examples\u001b[0m\u001b[1;33m=\u001b[0m\u001b[0mmodel\u001b[0m\u001b[1;33m.\u001b[0m\u001b[0mcorpus_count\u001b[0m\u001b[1;33m,\u001b[0m\u001b[0mepochs\u001b[0m\u001b[1;33m=\u001b[0m\u001b[1;36m10\u001b[0m\u001b[1;33m,\u001b[0m\u001b[0mcompute_loss\u001b[0m\u001b[1;33m=\u001b[0m\u001b[1;32mTrue\u001b[0m\u001b[1;33m)\u001b[0m\u001b[1;33m\u001b[0m\u001b[0m\n\u001b[0m",
      "\u001b[1;32m~\\AppData\\Local\\Continuum\\Anaconda3\\lib\\site-packages\\gensim\\models\\word2vec.py\u001b[0m in \u001b[0;36mtrain\u001b[1;34m(self, sentences, total_examples, total_words, epochs, start_alpha, end_alpha, word_count, queue_factor, report_delay, compute_loss)\u001b[0m\n\u001b[0;32m   1011\u001b[0m \u001b[1;33m\u001b[0m\u001b[0m\n\u001b[0;32m   1012\u001b[0m         \u001b[1;32mwhile\u001b[0m \u001b[0munfinished_worker_count\u001b[0m \u001b[1;33m>\u001b[0m \u001b[1;36m0\u001b[0m\u001b[1;33m:\u001b[0m\u001b[1;33m\u001b[0m\u001b[0m\n\u001b[1;32m-> 1013\u001b[1;33m             \u001b[0mreport\u001b[0m \u001b[1;33m=\u001b[0m \u001b[0mprogress_queue\u001b[0m\u001b[1;33m.\u001b[0m\u001b[0mget\u001b[0m\u001b[1;33m(\u001b[0m\u001b[1;33m)\u001b[0m  \u001b[1;31m# blocks if workers too slow\u001b[0m\u001b[1;33m\u001b[0m\u001b[0m\n\u001b[0m\u001b[0;32m   1014\u001b[0m             \u001b[1;32mif\u001b[0m \u001b[0mreport\u001b[0m \u001b[1;32mis\u001b[0m \u001b[1;32mNone\u001b[0m\u001b[1;33m:\u001b[0m  \u001b[1;31m# a thread reporting that it finished\u001b[0m\u001b[1;33m\u001b[0m\u001b[0m\n\u001b[0;32m   1015\u001b[0m                 \u001b[0munfinished_worker_count\u001b[0m \u001b[1;33m-=\u001b[0m \u001b[1;36m1\u001b[0m\u001b[1;33m\u001b[0m\u001b[0m\n",
      "\u001b[1;32m~\\AppData\\Local\\Continuum\\Anaconda3\\lib\\queue.py\u001b[0m in \u001b[0;36mget\u001b[1;34m(self, block, timeout)\u001b[0m\n\u001b[0;32m    162\u001b[0m             \u001b[1;32melif\u001b[0m \u001b[0mtimeout\u001b[0m \u001b[1;32mis\u001b[0m \u001b[1;32mNone\u001b[0m\u001b[1;33m:\u001b[0m\u001b[1;33m\u001b[0m\u001b[0m\n\u001b[0;32m    163\u001b[0m                 \u001b[1;32mwhile\u001b[0m \u001b[1;32mnot\u001b[0m \u001b[0mself\u001b[0m\u001b[1;33m.\u001b[0m\u001b[0m_qsize\u001b[0m\u001b[1;33m(\u001b[0m\u001b[1;33m)\u001b[0m\u001b[1;33m:\u001b[0m\u001b[1;33m\u001b[0m\u001b[0m\n\u001b[1;32m--> 164\u001b[1;33m                     \u001b[0mself\u001b[0m\u001b[1;33m.\u001b[0m\u001b[0mnot_empty\u001b[0m\u001b[1;33m.\u001b[0m\u001b[0mwait\u001b[0m\u001b[1;33m(\u001b[0m\u001b[1;33m)\u001b[0m\u001b[1;33m\u001b[0m\u001b[0m\n\u001b[0m\u001b[0;32m    165\u001b[0m             \u001b[1;32melif\u001b[0m \u001b[0mtimeout\u001b[0m \u001b[1;33m<\u001b[0m \u001b[1;36m0\u001b[0m\u001b[1;33m:\u001b[0m\u001b[1;33m\u001b[0m\u001b[0m\n\u001b[0;32m    166\u001b[0m                 \u001b[1;32mraise\u001b[0m \u001b[0mValueError\u001b[0m\u001b[1;33m(\u001b[0m\u001b[1;34m\"'timeout' must be a non-negative number\"\u001b[0m\u001b[1;33m)\u001b[0m\u001b[1;33m\u001b[0m\u001b[0m\n",
      "\u001b[1;32m~\\AppData\\Local\\Continuum\\Anaconda3\\lib\\threading.py\u001b[0m in \u001b[0;36mwait\u001b[1;34m(self, timeout)\u001b[0m\n\u001b[0;32m    293\u001b[0m         \u001b[1;32mtry\u001b[0m\u001b[1;33m:\u001b[0m    \u001b[1;31m# restore state no matter what (e.g., KeyboardInterrupt)\u001b[0m\u001b[1;33m\u001b[0m\u001b[0m\n\u001b[0;32m    294\u001b[0m             \u001b[1;32mif\u001b[0m \u001b[0mtimeout\u001b[0m \u001b[1;32mis\u001b[0m \u001b[1;32mNone\u001b[0m\u001b[1;33m:\u001b[0m\u001b[1;33m\u001b[0m\u001b[0m\n\u001b[1;32m--> 295\u001b[1;33m                 \u001b[0mwaiter\u001b[0m\u001b[1;33m.\u001b[0m\u001b[0macquire\u001b[0m\u001b[1;33m(\u001b[0m\u001b[1;33m)\u001b[0m\u001b[1;33m\u001b[0m\u001b[0m\n\u001b[0m\u001b[0;32m    296\u001b[0m                 \u001b[0mgotit\u001b[0m \u001b[1;33m=\u001b[0m \u001b[1;32mTrue\u001b[0m\u001b[1;33m\u001b[0m\u001b[0m\n\u001b[0;32m    297\u001b[0m             \u001b[1;32melse\u001b[0m\u001b[1;33m:\u001b[0m\u001b[1;33m\u001b[0m\u001b[0m\n",
      "\u001b[1;31mKeyboardInterrupt\u001b[0m: "
     ]
    }
   ],
   "source": [
    "model.build_vocab(input_w2v, update=True)\n",
    "for epoch in range(100):\n",
    "    model.train(input_w2v,total_examples=model.corpus_count,epochs=10,compute_loss=True)"
   ]
  },
  {
   "cell_type": "code",
   "execution_count": 121,
   "metadata": {},
   "outputs": [
    {
     "data": {
      "text/plain": [
       "[('_EOS_', 0.8302692174911499),\n",
       " ('_PAD_', 0.8045077919960022),\n",
       " ('내', 0.5489242672920227),\n",
       " ('이', 0.5466692447662354),\n",
       " ('나', 0.5433130264282227),\n",
       " ('의', 0.5393872857093811),\n",
       " ('너', 0.5387064218521118),\n",
       " ('에', 0.5358568429946899),\n",
       " ('을', 0.5176501274108887),\n",
       " ('가', 0.5152935981750488)]"
      ]
     },
     "execution_count": 121,
     "metadata": {},
     "output_type": "execute_result"
    }
   ],
   "source": [
    "model.most_similar('_STA_')"
   ]
  },
  {
   "cell_type": "code",
   "execution_count": 122,
   "metadata": {},
   "outputs": [
    {
     "data": {
      "text/plain": [
       "[('_PAD_', 0.8611234426498413),\n",
       " ('_STA_', 0.8302692770957947),\n",
       " ('에', 0.642507791519165),\n",
       " ('내', 0.626804769039154),\n",
       " ('나', 0.6253064870834351),\n",
       " ('의', 0.624982476234436),\n",
       " ('이', 0.620340883731842),\n",
       " ('너', 0.6100552082061768),\n",
       " ('을', 0.6039696335792542),\n",
       " ('가', 0.602447509765625)]"
      ]
     },
     "execution_count": 122,
     "metadata": {},
     "output_type": "execute_result"
    }
   ],
   "source": [
    "model.most_similar('_EOS_')"
   ]
  },
  {
   "cell_type": "code",
   "execution_count": 129,
   "metadata": {},
   "outputs": [
    {
     "data": {
      "text/plain": [
       "[('주세', 0.4554385542869568),\n",
       " ('지켜', 0.4324808716773987),\n",
       " ('사랑해', 0.4263104498386383),\n",
       " ('잊어', 0.4191628694534302),\n",
       " ('원해', 0.4177013635635376),\n",
       " ('사랑한', 0.4109094738960266),\n",
       " ('참아', 0.4002333879470825),\n",
       " ('있어', 0.3984522819519043),\n",
       " ('안아', 0.3976533114910126),\n",
       " ('노랠', 0.3975168764591217)]"
      ]
     },
     "execution_count": 129,
     "metadata": {},
     "output_type": "execute_result"
    }
   ],
   "source": [
    "model.most_similar('기다려')"
   ]
  },
  {
   "cell_type": "code",
   "execution_count": 123,
   "metadata": {},
   "outputs": [
    {
     "data": {
      "text/plain": [
       "[('좋아했', 0.45675355195999146),\n",
       " ('쭉', 0.4391387104988098),\n",
       " ('찾죠', 0.43434441089630127),\n",
       " ('알아보고', 0.42378148436546326),\n",
       " ('걸어가네', 0.4160393476486206),\n",
       " ('전화하려', 0.4155930280685425),\n",
       " ('hi', 0.4153924286365509),\n",
       " ('기로', 0.40518075227737427),\n",
       " ('볼게', 0.40256214141845703),\n",
       " ('Everything', 0.4014873504638672)]"
      ]
     },
     "execution_count": 123,
     "metadata": {},
     "output_type": "execute_result"
    }
   ],
   "source": [
    "model.most_similar('좋아해')"
   ]
  },
  {
   "cell_type": "code",
   "execution_count": 125,
   "metadata": {},
   "outputs": [],
   "source": [
    "model.save(\"Word2vec_pad.model\")"
   ]
  },
  {
   "cell_type": "code",
   "execution_count": null,
   "metadata": {
    "collapsed": true
   },
   "outputs": [],
   "source": []
  }
 ],
 "metadata": {
  "anaconda-cloud": {},
  "kernelspec": {
   "display_name": "Python [default]",
   "language": "python",
   "name": "python3"
  },
  "language_info": {
   "codemirror_mode": {
    "name": "ipython",
    "version": 3
   },
   "file_extension": ".py",
   "mimetype": "text/x-python",
   "name": "python",
   "nbconvert_exporter": "python",
   "pygments_lexer": "ipython3",
   "version": "3.6.5"
  }
 },
 "nbformat": 4,
 "nbformat_minor": 2
}
